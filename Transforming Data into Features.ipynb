{
 "cells": [
  {
   "cell_type": "code",
   "execution_count": 2,
   "id": "dc4c1c59-fb03-4da7-8243-30a196ac1e9f",
   "metadata": {},
   "outputs": [],
   "source": [
    "import pandas as pd\n",
    "import numpy as np\n",
    "from sklearn.preprocessing import StandardScaler"
   ]
  },
  {
   "cell_type": "code",
   "execution_count": 3,
   "id": "bc078c9e-ae9d-4a5a-9fd9-a8b17fc7c8c1",
   "metadata": {},
   "outputs": [
    {
     "name": "stdout",
     "output_type": "stream",
     "text": [
      "   clothing_id  age                review_title  \\\n",
      "0         1095   39  Cute,looks like a dress on   \n",
      "1         1095   28       So cute, great print!   \n",
      "2          699   37              So flattering!   \n",
      "3         1072   36                  Effortless   \n",
      "4         1094   32              You need this!   \n",
      "\n",
      "                                         review_text  recommended  \\\n",
      "0  If you are afraid of the jumpsuit trend but li...         True   \n",
      "1  I love fitted top dresses like this but i find...         True   \n",
      "2  I love these cozy, fashionable leggings. they ...         True   \n",
      "3  Another reviewer said it best, \"i love the way...         True   \n",
      "4  Rompers are my fav so i'm biased writing this ...         True   \n",
      "\n",
      "    division_name department_name review_date    rating  \n",
      "0         General         Dresses  2019-07-08  Liked it  \n",
      "1         General         Dresses  2019-05-17  Loved it  \n",
      "2       Initmates        Intimate  2019-06-24  Loved it  \n",
      "3  General Petite         Dresses  2019-12-06  Loved it  \n",
      "4         General         Dresses  2019-10-04  Loved it  \n"
     ]
    }
   ],
   "source": [
    "reviews = pd.read_csv('reviews.csv')\n",
    "print(reviews.head(5))"
   ]
  },
  {
   "cell_type": "code",
   "execution_count": 5,
   "id": "5711fe7c-fe05-4ce2-99f2-d5b7d5bc59f7",
   "metadata": {},
   "outputs": [
    {
     "name": "stdout",
     "output_type": "stream",
     "text": [
      "Index(['clothing_id', 'age', 'review_title', 'review_text', 'recommended',\n",
      "       'division_name', 'department_name', 'review_date', 'rating'],\n",
      "      dtype='object')\n"
     ]
    }
   ],
   "source": [
    "print(reviews.columns)"
   ]
  },
  {
   "cell_type": "code",
   "execution_count": 6,
   "id": "f941ea4c-a35a-4b5c-975d-4a3b0708747b",
   "metadata": {},
   "outputs": [
    {
     "name": "stdout",
     "output_type": "stream",
     "text": [
      "<bound method DataFrame.info of       clothing_id  age                                  review_title  \\\n",
      "0            1095   39                    Cute,looks like a dress on   \n",
      "1            1095   28                         So cute, great print!   \n",
      "2             699   37                                So flattering!   \n",
      "3            1072   36                                    Effortless   \n",
      "4            1094   32                                You need this!   \n",
      "...           ...  ...                                           ...   \n",
      "4995          918   38                                Unique sweater   \n",
      "4996          950   33             The brown/gray version is cropped   \n",
      "4997         1086   36                                           NaN   \n",
      "4998         1033   28  If you have a big booty, get these jeans now   \n",
      "4999          850   64                          Makes me feel pretty   \n",
      "\n",
      "                                            review_text  recommended  \\\n",
      "0     If you are afraid of the jumpsuit trend but li...         True   \n",
      "1     I love fitted top dresses like this but i find...         True   \n",
      "2     I love these cozy, fashionable leggings. they ...         True   \n",
      "3     Another reviewer said it best, \"i love the way...         True   \n",
      "4     Rompers are my fav so i'm biased writing this ...         True   \n",
      "...                                                 ...          ...   \n",
      "4995  I tried it in the store but was not the true s...         True   \n",
      "4996  The photos don't look it, but the one i receiv...        False   \n",
      "4997  Simple, classic, figure flattering, and reason...         True   \n",
      "4998  I have a tough time shopping for jeans because...         True   \n",
      "4999  I love this off the shoulder top. it is so fla...         True   \n",
      "\n",
      "       division_name department_name review_date    rating  \n",
      "0            General         Dresses  2019-07-08  Liked it  \n",
      "1            General         Dresses  2019-05-17  Loved it  \n",
      "2          Initmates        Intimate  2019-06-24  Loved it  \n",
      "3     General Petite         Dresses  2019-12-06  Loved it  \n",
      "4            General         Dresses  2019-10-04  Loved it  \n",
      "...              ...             ...         ...       ...  \n",
      "4995  General Petite            Tops  2019-05-26  Loved it  \n",
      "4996         General            Tops  2019-10-21  Hated it  \n",
      "4997  General Petite         Dresses  2019-10-18  Loved it  \n",
      "4998  General Petite         Bottoms  2019-11-24  Loved it  \n",
      "4999         General            Tops  2019-10-31  Loved it  \n",
      "\n",
      "[5000 rows x 9 columns]>\n"
     ]
    }
   ],
   "source": [
    "print(reviews.info)"
   ]
  },
  {
   "cell_type": "markdown",
   "id": "6d1f1939-e108-454a-953e-40bde91f740d",
   "metadata": {},
   "source": [
    "# Data transformation\n",
    "### Transforming recommended column into binary values."
   ]
  },
  {
   "cell_type": "code",
   "execution_count": 10,
   "id": "7ca4cd00-584b-44df-8a4e-46b8cdcb0dc7",
   "metadata": {},
   "outputs": [
    {
     "name": "stdout",
     "output_type": "stream",
     "text": [
      "True     4166\n",
      "False     834\n",
      "Name: recommended, dtype: int64\n"
     ]
    }
   ],
   "source": [
    "print(reviews['recommended'].value_counts())"
   ]
  },
  {
   "cell_type": "code",
   "execution_count": 12,
   "id": "1dabdc4f-9e66-4a51-a19b-76fd651c630e",
   "metadata": {},
   "outputs": [],
   "source": [
    "binary_dict = {True:1, False:0}"
   ]
  },
  {
   "cell_type": "code",
   "execution_count": 14,
   "id": "a8789387-c305-4530-bd6b-852b237ebfa6",
   "metadata": {},
   "outputs": [],
   "source": [
    "reviews.recommended = reviews.recommended.map(binary_dict)"
   ]
  },
  {
   "cell_type": "code",
   "execution_count": 15,
   "id": "65114eb2-a544-444a-8624-799b5a66624c",
   "metadata": {},
   "outputs": [
    {
     "name": "stdout",
     "output_type": "stream",
     "text": [
      "Series([], Name: recommended, dtype: int64)\n"
     ]
    }
   ],
   "source": [
    "print(reviews.recommended.value_counts())"
   ]
  },
  {
   "cell_type": "markdown",
   "id": "12a34ad8-6994-4a7d-baf2-b718938580d6",
   "metadata": {
    "tags": []
   },
   "source": [
    "## Transforming rating feature into several number categories."
   ]
  },
  {
   "cell_type": "code",
   "execution_count": 16,
   "id": "dded22c5-62ab-45ef-b277-c7a3b20fbe6e",
   "metadata": {},
   "outputs": [
    {
     "name": "stdout",
     "output_type": "stream",
     "text": [
      "Loved it     2798\n",
      "Liked it     1141\n",
      "Was okay      564\n",
      "Not great     304\n",
      "Hated it      193\n",
      "Name: rating, dtype: int64\n"
     ]
    }
   ],
   "source": [
    "print(reviews['rating'].value_counts())"
   ]
  },
  {
   "cell_type": "code",
   "execution_count": 24,
   "id": "d908fbad-da7a-4817-bf69-cc7208fe0c05",
   "metadata": {},
   "outputs": [
    {
     "data": {
      "text/plain": [
       "{'Loved it': 5, 'Liked it': 4, 'Was okay': 3, 'Not great': 2, 'Hated it': 1}"
      ]
     },
     "execution_count": 24,
     "metadata": {},
     "output_type": "execute_result"
    }
   ],
   "source": [
    "rating_dict = {'Loved it': 5, 'Liked it': 4, 'Was okay': 3, 'Not great': 2, 'Hated it': 1}"
   ]
  },
  {
   "cell_type": "code",
   "execution_count": 25,
   "id": "0f61a1d5-3fa9-4ed6-a701-7f103cef4d43",
   "metadata": {},
   "outputs": [
    {
     "name": "stdout",
     "output_type": "stream",
     "text": [
      "Series([], Name: rating, dtype: int64)\n"
     ]
    }
   ],
   "source": [
    "reviews.rating = reviews.rating.map(rating_dict)\n",
    "print(reviews.rating.value_counts())"
   ]
  },
  {
   "cell_type": "markdown",
   "id": "106ef130-9b6f-4875-b88f-99986c5af4e2",
   "metadata": {
    "tags": []
   },
   "source": [
    "## Transforming Department feature into one-hot-encoding."
   ]
  },
  {
   "cell_type": "code",
   "execution_count": 26,
   "id": "7f848346-1987-4280-98e8-bb1e87633c15",
   "metadata": {},
   "outputs": [
    {
     "name": "stdout",
     "output_type": "stream",
     "text": [
      "Tops        2196\n",
      "Dresses     1322\n",
      "Bottoms      848\n",
      "Intimate     378\n",
      "Jackets      224\n",
      "Trend         28\n",
      "Name: department_name, dtype: int64\n"
     ]
    }
   ],
   "source": [
    "print(reviews['department_name'].value_counts())"
   ]
  },
  {
   "cell_type": "code",
   "execution_count": 29,
   "id": "696f5e92-0523-49ed-b95b-53e6dc4581dd",
   "metadata": {},
   "outputs": [
    {
     "name": "stdout",
     "output_type": "stream",
     "text": [
      "      Bottoms  Dresses  Intimate  Jackets  Tops  Trend\n",
      "0           0        1         0        0     0      0\n",
      "1           0        1         0        0     0      0\n",
      "2           0        0         1        0     0      0\n",
      "3           0        1         0        0     0      0\n",
      "4           0        1         0        0     0      0\n",
      "...       ...      ...       ...      ...   ...    ...\n",
      "4995        0        0         0        0     1      0\n",
      "4996        0        0         0        0     1      0\n",
      "4997        0        1         0        0     0      0\n",
      "4998        1        0         0        0     0      0\n",
      "4999        0        0         0        0     1      0\n",
      "\n",
      "[5000 rows x 6 columns]\n"
     ]
    }
   ],
   "source": [
    "one_hot = pd.get_dummies(reviews['department_name'])\n",
    "print(one_hot)"
   ]
  },
  {
   "cell_type": "markdown",
   "id": "9d95095c-e4cf-460b-832a-8f86349548a0",
   "metadata": {},
   "source": [
    "### Joinning one-hot_encoding into reviews."
   ]
  },
  {
   "cell_type": "code",
   "execution_count": 33,
   "id": "8c5d00d0-5ff5-4b2f-a869-ad9af069cae1",
   "metadata": {},
   "outputs": [
    {
     "ename": "ValueError",
     "evalue": "columns overlap but no suffix specified: Index(['Bottoms', 'Dresses', 'Intimate', 'Jackets', 'Tops', 'Trend'], dtype='object')",
     "output_type": "error",
     "traceback": [
      "\u001b[1;31m---------------------------------------------------------------------------\u001b[0m",
      "\u001b[1;31mValueError\u001b[0m                                Traceback (most recent call last)",
      "\u001b[1;32m~\\AppData\\Local\\Temp\\ipykernel_13644\\3566466394.py\u001b[0m in \u001b[0;36m<module>\u001b[1;34m\u001b[0m\n\u001b[1;32m----> 1\u001b[1;33m \u001b[0mreviews\u001b[0m \u001b[1;33m=\u001b[0m \u001b[0mreviews\u001b[0m\u001b[1;33m.\u001b[0m\u001b[0mjoin\u001b[0m\u001b[1;33m(\u001b[0m\u001b[0mone_hot\u001b[0m\u001b[1;33m)\u001b[0m\u001b[1;33m\u001b[0m\u001b[1;33m\u001b[0m\u001b[0m\n\u001b[0m",
      "\u001b[1;32m~\\anaconda3\\lib\\site-packages\\pandas\\core\\frame.py\u001b[0m in \u001b[0;36mjoin\u001b[1;34m(self, other, on, how, lsuffix, rsuffix, sort)\u001b[0m\n\u001b[0;32m   9261\u001b[0m         \u001b[1;36m5\u001b[0m  \u001b[0mK1\u001b[0m  \u001b[0mA5\u001b[0m   \u001b[0mB1\u001b[0m\u001b[1;33m\u001b[0m\u001b[1;33m\u001b[0m\u001b[0m\n\u001b[0;32m   9262\u001b[0m         \"\"\"\n\u001b[1;32m-> 9263\u001b[1;33m         return self._join_compat(\n\u001b[0m\u001b[0;32m   9264\u001b[0m             \u001b[0mother\u001b[0m\u001b[1;33m,\u001b[0m \u001b[0mon\u001b[0m\u001b[1;33m=\u001b[0m\u001b[0mon\u001b[0m\u001b[1;33m,\u001b[0m \u001b[0mhow\u001b[0m\u001b[1;33m=\u001b[0m\u001b[0mhow\u001b[0m\u001b[1;33m,\u001b[0m \u001b[0mlsuffix\u001b[0m\u001b[1;33m=\u001b[0m\u001b[0mlsuffix\u001b[0m\u001b[1;33m,\u001b[0m \u001b[0mrsuffix\u001b[0m\u001b[1;33m=\u001b[0m\u001b[0mrsuffix\u001b[0m\u001b[1;33m,\u001b[0m \u001b[0msort\u001b[0m\u001b[1;33m=\u001b[0m\u001b[0msort\u001b[0m\u001b[1;33m\u001b[0m\u001b[1;33m\u001b[0m\u001b[0m\n\u001b[0;32m   9265\u001b[0m         )\n",
      "\u001b[1;32m~\\anaconda3\\lib\\site-packages\\pandas\\core\\frame.py\u001b[0m in \u001b[0;36m_join_compat\u001b[1;34m(self, other, on, how, lsuffix, rsuffix, sort)\u001b[0m\n\u001b[0;32m   9292\u001b[0m                     \u001b[0msort\u001b[0m\u001b[1;33m=\u001b[0m\u001b[0msort\u001b[0m\u001b[1;33m,\u001b[0m\u001b[1;33m\u001b[0m\u001b[1;33m\u001b[0m\u001b[0m\n\u001b[0;32m   9293\u001b[0m                 )\n\u001b[1;32m-> 9294\u001b[1;33m             return merge(\n\u001b[0m\u001b[0;32m   9295\u001b[0m                 \u001b[0mself\u001b[0m\u001b[1;33m,\u001b[0m\u001b[1;33m\u001b[0m\u001b[1;33m\u001b[0m\u001b[0m\n\u001b[0;32m   9296\u001b[0m                 \u001b[0mother\u001b[0m\u001b[1;33m,\u001b[0m\u001b[1;33m\u001b[0m\u001b[1;33m\u001b[0m\u001b[0m\n",
      "\u001b[1;32m~\\anaconda3\\lib\\site-packages\\pandas\\core\\reshape\\merge.py\u001b[0m in \u001b[0;36mmerge\u001b[1;34m(left, right, how, on, left_on, right_on, left_index, right_index, sort, suffixes, copy, indicator, validate)\u001b[0m\n\u001b[0;32m    120\u001b[0m         \u001b[0mvalidate\u001b[0m\u001b[1;33m=\u001b[0m\u001b[0mvalidate\u001b[0m\u001b[1;33m,\u001b[0m\u001b[1;33m\u001b[0m\u001b[1;33m\u001b[0m\u001b[0m\n\u001b[0;32m    121\u001b[0m     )\n\u001b[1;32m--> 122\u001b[1;33m     \u001b[1;32mreturn\u001b[0m \u001b[0mop\u001b[0m\u001b[1;33m.\u001b[0m\u001b[0mget_result\u001b[0m\u001b[1;33m(\u001b[0m\u001b[1;33m)\u001b[0m\u001b[1;33m\u001b[0m\u001b[1;33m\u001b[0m\u001b[0m\n\u001b[0m\u001b[0;32m    123\u001b[0m \u001b[1;33m\u001b[0m\u001b[0m\n\u001b[0;32m    124\u001b[0m \u001b[1;33m\u001b[0m\u001b[0m\n",
      "\u001b[1;32m~\\anaconda3\\lib\\site-packages\\pandas\\core\\reshape\\merge.py\u001b[0m in \u001b[0;36mget_result\u001b[1;34m(self)\u001b[0m\n\u001b[0;32m    716\u001b[0m         \u001b[0mjoin_index\u001b[0m\u001b[1;33m,\u001b[0m \u001b[0mleft_indexer\u001b[0m\u001b[1;33m,\u001b[0m \u001b[0mright_indexer\u001b[0m \u001b[1;33m=\u001b[0m \u001b[0mself\u001b[0m\u001b[1;33m.\u001b[0m\u001b[0m_get_join_info\u001b[0m\u001b[1;33m(\u001b[0m\u001b[1;33m)\u001b[0m\u001b[1;33m\u001b[0m\u001b[1;33m\u001b[0m\u001b[0m\n\u001b[0;32m    717\u001b[0m \u001b[1;33m\u001b[0m\u001b[0m\n\u001b[1;32m--> 718\u001b[1;33m         llabels, rlabels = _items_overlap_with_suffix(\n\u001b[0m\u001b[0;32m    719\u001b[0m             \u001b[0mself\u001b[0m\u001b[1;33m.\u001b[0m\u001b[0mleft\u001b[0m\u001b[1;33m.\u001b[0m\u001b[0m_info_axis\u001b[0m\u001b[1;33m,\u001b[0m \u001b[0mself\u001b[0m\u001b[1;33m.\u001b[0m\u001b[0mright\u001b[0m\u001b[1;33m.\u001b[0m\u001b[0m_info_axis\u001b[0m\u001b[1;33m,\u001b[0m \u001b[0mself\u001b[0m\u001b[1;33m.\u001b[0m\u001b[0msuffixes\u001b[0m\u001b[1;33m\u001b[0m\u001b[1;33m\u001b[0m\u001b[0m\n\u001b[0;32m    720\u001b[0m         )\n",
      "\u001b[1;32m~\\anaconda3\\lib\\site-packages\\pandas\\core\\reshape\\merge.py\u001b[0m in \u001b[0;36m_items_overlap_with_suffix\u001b[1;34m(left, right, suffixes)\u001b[0m\n\u001b[0;32m   2315\u001b[0m \u001b[1;33m\u001b[0m\u001b[0m\n\u001b[0;32m   2316\u001b[0m     \u001b[1;32mif\u001b[0m \u001b[1;32mnot\u001b[0m \u001b[0mlsuffix\u001b[0m \u001b[1;32mand\u001b[0m \u001b[1;32mnot\u001b[0m \u001b[0mrsuffix\u001b[0m\u001b[1;33m:\u001b[0m\u001b[1;33m\u001b[0m\u001b[1;33m\u001b[0m\u001b[0m\n\u001b[1;32m-> 2317\u001b[1;33m         \u001b[1;32mraise\u001b[0m \u001b[0mValueError\u001b[0m\u001b[1;33m(\u001b[0m\u001b[1;34mf\"columns overlap but no suffix specified: {to_rename}\"\u001b[0m\u001b[1;33m)\u001b[0m\u001b[1;33m\u001b[0m\u001b[1;33m\u001b[0m\u001b[0m\n\u001b[0m\u001b[0;32m   2318\u001b[0m \u001b[1;33m\u001b[0m\u001b[0m\n\u001b[0;32m   2319\u001b[0m     \u001b[1;32mdef\u001b[0m \u001b[0mrenamer\u001b[0m\u001b[1;33m(\u001b[0m\u001b[0mx\u001b[0m\u001b[1;33m,\u001b[0m \u001b[0msuffix\u001b[0m\u001b[1;33m)\u001b[0m\u001b[1;33m:\u001b[0m\u001b[1;33m\u001b[0m\u001b[1;33m\u001b[0m\u001b[0m\n",
      "\u001b[1;31mValueError\u001b[0m: columns overlap but no suffix specified: Index(['Bottoms', 'Dresses', 'Intimate', 'Jackets', 'Tops', 'Trend'], dtype='object')"
     ]
    }
   ],
   "source": [
    "reviews = reviews.join(one_hot)"
   ]
  },
  {
   "cell_type": "markdown",
   "id": "390fd7a0-1c84-472f-8577-e3ab004ea675",
   "metadata": {},
   "source": [
    "### Transforming review_date into date-time feature."
   ]
  },
  {
   "cell_type": "code",
   "execution_count": 37,
   "id": "f41ebcd4-38c6-4698-b58c-4de01e055386",
   "metadata": {},
   "outputs": [
    {
     "name": "stdout",
     "output_type": "stream",
     "text": [
      "0      2019-07-08\n",
      "1      2019-05-17\n",
      "2      2019-06-24\n",
      "3      2019-12-06\n",
      "4      2019-10-04\n",
      "          ...    \n",
      "4995   2019-05-26\n",
      "4996   2019-10-21\n",
      "4997   2019-10-18\n",
      "4998   2019-11-24\n",
      "4999   2019-10-31\n",
      "Name: review_date, Length: 5000, dtype: datetime64[ns]\n",
      "datetime64[ns]\n"
     ]
    }
   ],
   "source": [
    "reviews.review_date = pd.to_datetime(reviews.review_date)\n",
    "print(reviews.review_date)\n",
    "print(reviews.review_date.dtype)"
   ]
  },
  {
   "cell_type": "markdown",
   "id": "57da111d-f467-4f46-87d7-3c53e2525517",
   "metadata": {},
   "source": [
    "### Scaling data into one scale."
   ]
  },
  {
   "cell_type": "code",
   "execution_count": 44,
   "id": "78aef2fd-1f80-4820-bd64-801aefd6bf87",
   "metadata": {},
   "outputs": [
    {
     "ename": "KeyError",
     "evalue": "\"['clothing_id'] not in index\"",
     "output_type": "error",
     "traceback": [
      "\u001b[1;31m---------------------------------------------------------------------------\u001b[0m",
      "\u001b[1;31mKeyError\u001b[0m                                  Traceback (most recent call last)",
      "\u001b[1;32m~\\AppData\\Local\\Temp\\ipykernel_13644\\2840326503.py\u001b[0m in \u001b[0;36m<module>\u001b[1;34m\u001b[0m\n\u001b[0;32m      1\u001b[0m \u001b[1;31m#getting numerical columns.\u001b[0m\u001b[1;33m\u001b[0m\u001b[1;33m\u001b[0m\u001b[0m\n\u001b[1;32m----> 2\u001b[1;33m \u001b[0mreviews\u001b[0m \u001b[1;33m=\u001b[0m \u001b[0mreviews\u001b[0m\u001b[1;33m[\u001b[0m\u001b[1;33m[\u001b[0m\u001b[1;34m'clothing_id'\u001b[0m\u001b[1;33m,\u001b[0m \u001b[1;34m'age'\u001b[0m\u001b[1;33m,\u001b[0m \u001b[1;34m'recommended'\u001b[0m\u001b[1;33m,\u001b[0m \u001b[1;34m'rating'\u001b[0m\u001b[1;33m,\u001b[0m \u001b[1;34m'Bottoms'\u001b[0m\u001b[1;33m,\u001b[0m\u001b[1;34m'Dresses'\u001b[0m\u001b[1;33m,\u001b[0m \u001b[1;34m'Intimate'\u001b[0m\u001b[1;33m,\u001b[0m \u001b[1;34m'Jackets'\u001b[0m\u001b[1;33m,\u001b[0m \u001b[1;34m'Tops'\u001b[0m\u001b[1;33m,\u001b[0m \u001b[1;34m'Trend'\u001b[0m\u001b[1;33m]\u001b[0m\u001b[1;33m]\u001b[0m\u001b[1;33m.\u001b[0m\u001b[0mcopy\u001b[0m\u001b[1;33m(\u001b[0m\u001b[1;33m)\u001b[0m\u001b[1;33m\u001b[0m\u001b[1;33m\u001b[0m\u001b[0m\n\u001b[0m\u001b[0;32m      3\u001b[0m \u001b[1;33m\u001b[0m\u001b[0m\n\u001b[0;32m      4\u001b[0m \u001b[1;31m#resetting the index\u001b[0m\u001b[1;33m\u001b[0m\u001b[1;33m\u001b[0m\u001b[0m\n\u001b[0;32m      5\u001b[0m \u001b[0mreviews\u001b[0m \u001b[1;33m=\u001b[0m \u001b[0mreviews\u001b[0m\u001b[1;33m.\u001b[0m\u001b[0mset_index\u001b[0m\u001b[1;33m(\u001b[0m\u001b[1;33m[\u001b[0m\u001b[1;34m'clothing_id'\u001b[0m\u001b[1;33m]\u001b[0m\u001b[1;33m)\u001b[0m\u001b[1;33m\u001b[0m\u001b[1;33m\u001b[0m\u001b[0m\n",
      "\u001b[1;32m~\\anaconda3\\lib\\site-packages\\pandas\\core\\frame.py\u001b[0m in \u001b[0;36m__getitem__\u001b[1;34m(self, key)\u001b[0m\n\u001b[0;32m   3509\u001b[0m             \u001b[1;32mif\u001b[0m \u001b[0mis_iterator\u001b[0m\u001b[1;33m(\u001b[0m\u001b[0mkey\u001b[0m\u001b[1;33m)\u001b[0m\u001b[1;33m:\u001b[0m\u001b[1;33m\u001b[0m\u001b[1;33m\u001b[0m\u001b[0m\n\u001b[0;32m   3510\u001b[0m                 \u001b[0mkey\u001b[0m \u001b[1;33m=\u001b[0m \u001b[0mlist\u001b[0m\u001b[1;33m(\u001b[0m\u001b[0mkey\u001b[0m\u001b[1;33m)\u001b[0m\u001b[1;33m\u001b[0m\u001b[1;33m\u001b[0m\u001b[0m\n\u001b[1;32m-> 3511\u001b[1;33m             \u001b[0mindexer\u001b[0m \u001b[1;33m=\u001b[0m \u001b[0mself\u001b[0m\u001b[1;33m.\u001b[0m\u001b[0mcolumns\u001b[0m\u001b[1;33m.\u001b[0m\u001b[0m_get_indexer_strict\u001b[0m\u001b[1;33m(\u001b[0m\u001b[0mkey\u001b[0m\u001b[1;33m,\u001b[0m \u001b[1;34m\"columns\"\u001b[0m\u001b[1;33m)\u001b[0m\u001b[1;33m[\u001b[0m\u001b[1;36m1\u001b[0m\u001b[1;33m]\u001b[0m\u001b[1;33m\u001b[0m\u001b[1;33m\u001b[0m\u001b[0m\n\u001b[0m\u001b[0;32m   3512\u001b[0m \u001b[1;33m\u001b[0m\u001b[0m\n\u001b[0;32m   3513\u001b[0m         \u001b[1;31m# take() does not accept boolean indexers\u001b[0m\u001b[1;33m\u001b[0m\u001b[1;33m\u001b[0m\u001b[0m\n",
      "\u001b[1;32m~\\anaconda3\\lib\\site-packages\\pandas\\core\\indexes\\base.py\u001b[0m in \u001b[0;36m_get_indexer_strict\u001b[1;34m(self, key, axis_name)\u001b[0m\n\u001b[0;32m   5794\u001b[0m             \u001b[0mkeyarr\u001b[0m\u001b[1;33m,\u001b[0m \u001b[0mindexer\u001b[0m\u001b[1;33m,\u001b[0m \u001b[0mnew_indexer\u001b[0m \u001b[1;33m=\u001b[0m \u001b[0mself\u001b[0m\u001b[1;33m.\u001b[0m\u001b[0m_reindex_non_unique\u001b[0m\u001b[1;33m(\u001b[0m\u001b[0mkeyarr\u001b[0m\u001b[1;33m)\u001b[0m\u001b[1;33m\u001b[0m\u001b[1;33m\u001b[0m\u001b[0m\n\u001b[0;32m   5795\u001b[0m \u001b[1;33m\u001b[0m\u001b[0m\n\u001b[1;32m-> 5796\u001b[1;33m         \u001b[0mself\u001b[0m\u001b[1;33m.\u001b[0m\u001b[0m_raise_if_missing\u001b[0m\u001b[1;33m(\u001b[0m\u001b[0mkeyarr\u001b[0m\u001b[1;33m,\u001b[0m \u001b[0mindexer\u001b[0m\u001b[1;33m,\u001b[0m \u001b[0maxis_name\u001b[0m\u001b[1;33m)\u001b[0m\u001b[1;33m\u001b[0m\u001b[1;33m\u001b[0m\u001b[0m\n\u001b[0m\u001b[0;32m   5797\u001b[0m \u001b[1;33m\u001b[0m\u001b[0m\n\u001b[0;32m   5798\u001b[0m         \u001b[0mkeyarr\u001b[0m \u001b[1;33m=\u001b[0m \u001b[0mself\u001b[0m\u001b[1;33m.\u001b[0m\u001b[0mtake\u001b[0m\u001b[1;33m(\u001b[0m\u001b[0mindexer\u001b[0m\u001b[1;33m)\u001b[0m\u001b[1;33m\u001b[0m\u001b[1;33m\u001b[0m\u001b[0m\n",
      "\u001b[1;32m~\\anaconda3\\lib\\site-packages\\pandas\\core\\indexes\\base.py\u001b[0m in \u001b[0;36m_raise_if_missing\u001b[1;34m(self, key, indexer, axis_name)\u001b[0m\n\u001b[0;32m   5857\u001b[0m \u001b[1;33m\u001b[0m\u001b[0m\n\u001b[0;32m   5858\u001b[0m             \u001b[0mnot_found\u001b[0m \u001b[1;33m=\u001b[0m \u001b[0mlist\u001b[0m\u001b[1;33m(\u001b[0m\u001b[0mensure_index\u001b[0m\u001b[1;33m(\u001b[0m\u001b[0mkey\u001b[0m\u001b[1;33m)\u001b[0m\u001b[1;33m[\u001b[0m\u001b[0mmissing_mask\u001b[0m\u001b[1;33m.\u001b[0m\u001b[0mnonzero\u001b[0m\u001b[1;33m(\u001b[0m\u001b[1;33m)\u001b[0m\u001b[1;33m[\u001b[0m\u001b[1;36m0\u001b[0m\u001b[1;33m]\u001b[0m\u001b[1;33m]\u001b[0m\u001b[1;33m.\u001b[0m\u001b[0munique\u001b[0m\u001b[1;33m(\u001b[0m\u001b[1;33m)\u001b[0m\u001b[1;33m)\u001b[0m\u001b[1;33m\u001b[0m\u001b[1;33m\u001b[0m\u001b[0m\n\u001b[1;32m-> 5859\u001b[1;33m             \u001b[1;32mraise\u001b[0m \u001b[0mKeyError\u001b[0m\u001b[1;33m(\u001b[0m\u001b[1;34mf\"{not_found} not in index\"\u001b[0m\u001b[1;33m)\u001b[0m\u001b[1;33m\u001b[0m\u001b[1;33m\u001b[0m\u001b[0m\n\u001b[0m\u001b[0;32m   5860\u001b[0m \u001b[1;33m\u001b[0m\u001b[0m\n\u001b[0;32m   5861\u001b[0m     \u001b[1;33m@\u001b[0m\u001b[0moverload\u001b[0m\u001b[1;33m\u001b[0m\u001b[1;33m\u001b[0m\u001b[0m\n",
      "\u001b[1;31mKeyError\u001b[0m: \"['clothing_id'] not in index\""
     ]
    }
   ],
   "source": [
    "#getting numerical columns.\n",
    "reviews = reviews[['clothing_id', 'age', 'recommended', 'rating', 'Bottoms','Dresses', 'Intimate', 'Jackets', 'Tops', 'Trend']].copy()\n",
    "\n",
    "#resetting the index\n",
    "reviews = reviews.set_index(['clothing_id'])\n",
    "reviews"
   ]
  },
  {
   "cell_type": "code",
   "execution_count": 46,
   "id": "f44d7139-06f7-4d7b-a184-e4fd3207ef4d",
   "metadata": {},
   "outputs": [
    {
     "name": "stdout",
     "output_type": "stream",
     "text": [
      "[[-0.34814459         nan         nan ... -0.21656679 -0.88496718\n",
      "  -0.07504356]\n",
      " [-1.24475223         nan         nan ... -0.21656679 -0.88496718\n",
      "  -0.07504356]\n",
      " [-0.51116416         nan         nan ... -0.21656679 -0.88496718\n",
      "  -0.07504356]\n",
      " ...\n",
      " [-0.59267395         nan         nan ... -0.21656679 -0.88496718\n",
      "  -0.07504356]\n",
      " [-1.24475223         nan         nan ... -0.21656679 -0.88496718\n",
      "  -0.07504356]\n",
      " [ 1.68960003         nan         nan ... -0.21656679  1.12998541\n",
      "  -0.07504356]]\n"
     ]
    },
    {
     "name": "stderr",
     "output_type": "stream",
     "text": [
      "C:\\Users\\przem\\anaconda3\\lib\\site-packages\\sklearn\\utils\\extmath.py:985: RuntimeWarning: invalid value encountered in true_divide\n",
      "  updated_mean = (last_sum + new_sum) / updated_sample_count\n",
      "C:\\Users\\przem\\anaconda3\\lib\\site-packages\\sklearn\\utils\\extmath.py:990: RuntimeWarning: invalid value encountered in true_divide\n",
      "  T = new_sum / new_sample_count\n",
      "C:\\Users\\przem\\anaconda3\\lib\\site-packages\\sklearn\\utils\\extmath.py:1020: RuntimeWarning: invalid value encountered in true_divide\n",
      "  new_unnormalized_variance -= correction ** 2 / new_sample_count\n"
     ]
    }
   ],
   "source": [
    "# Instantiating standard scaler\n",
    "scaler = StandardScaler()\n",
    "scaled_revs = scaler.fit_transform(reviews)\n",
    "print(scaled_revs)"
   ]
  }
 ],
 "metadata": {
  "kernelspec": {
   "display_name": "Python 3 (ipykernel)",
   "language": "python",
   "name": "python3"
  },
  "language_info": {
   "codemirror_mode": {
    "name": "ipython",
    "version": 3
   },
   "file_extension": ".py",
   "mimetype": "text/x-python",
   "name": "python",
   "nbconvert_exporter": "python",
   "pygments_lexer": "ipython3",
   "version": "3.9.13"
  }
 },
 "nbformat": 4,
 "nbformat_minor": 5
}
